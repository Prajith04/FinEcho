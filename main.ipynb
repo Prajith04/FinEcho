{
 "cells": [
  {
   "cell_type": "code",
   "execution_count": 51,
   "id": "64c4ea4f",
   "metadata": {},
   "outputs": [],
   "source": [
    "from langchain_mcp_adapters.client import MultiServerMCPClient\n",
    "from langgraph.prebuilt import create_react_agent\n",
    "from dotenv import load_dotenv\n",
    "from langchain_core.messages import HumanMessage,SystemMessage,AIMessage\n",
    "from langchain_groq import ChatGroq\n",
    "import os\n",
    "import asyncio\n",
    "load_dotenv()\n",
    "grok_api_key = os.getenv(\"GROQ_API_KEY\")\n",
    "ALPHA_VANTAGE_API_KEY =os.getenv(\"ALPHA_VANTAGE_API_KEY\")\n",
    "alpha_client = MultiServerMCPClient(\n",
    "    {\n",
    "    \"alphavantage\": {\n",
    "      \"command\": \"docker\",\n",
    "      \"args\": [\n",
    "        \"run\",\n",
    "        \"-i\",\n",
    "        \"-e\",\n",
    "        \"ALPHA_VANTAGE_API_KEY\",\n",
    "        \"mcp/alpha-vantage\"\n",
    "      ],\n",
    "      \"env\": {\n",
    "        \"ALPHA_VANTAGE_API_KEY\": \"{ALPHA_VANTAGE_API_KEY}\"\n",
    "      },\n",
    "      \"transport\":\"stdio\"\n",
    "    }\n",
    "    }\n",
    ")\n",
    "yahoo_client = MultiServerMCPClient(\n",
    "    {\n",
    "    \"yfinance\": {\n",
    "      \"command\": \"uv\",\n",
    "      \"args\": [\n",
    "        \"--directory\",\n",
    "        \"yahoo-finance-mcp\",\n",
    "        \"run\",\n",
    "        \"server.py\"\n",
    "      ],\n",
    "       \"transport\":\"stdio\"\n",
    "    }\n",
    "  }\n",
    ")\n",
    "alpha_client0=MultiServerMCPClient(\n",
    "    {\n",
    "    \"alphavantage\": {\n",
    "      \"command\": \"uv\",\n",
    "      \"args\": [\n",
    "        \"--directory\",\n",
    "        \"alphavantage\",\n",
    "        \"run\",\n",
    "        \"alphavantage\"\n",
    "      ],\n",
    "      \"env\": {\n",
    "        \"ALPHAVANTAGE_API_KEY\": \"{ALPHA_VANTAGE_API_KEY}\"\n",
    "      },\n",
    "      \"transport\":\"stdio\"\n",
    "    }\n",
    "  }\n",
    ")\n",
    "edgar_client = MultiServerMCPClient(\n",
    "    {\n",
    "    \"mcp-edgar-sec\": {\n",
    "      \"command\": \"uv\",\n",
    "      \"args\": [\n",
    "        \"run\",\n",
    "        \"--with\",\n",
    "        \"mcp\",\n",
    "        \"--with\",\n",
    "        \"edgartools\",\n",
    "        \"--with\",\n",
    "        \"pandas\",\n",
    "        \"--with\",\n",
    "        \"requests\",\n",
    "        \"--with\",\n",
    "        \"nest_asyncio\",\n",
    "        \"--directory\",\n",
    "        \"mcp-edgar-sec\",\n",
    "        \"mcp\",\n",
    "        \"run\",\n",
    "        \"src/server.py\"\n",
    "      ],\n",
    "      \"transport\":\"stdio\",\n",
    "    }\n",
    "  }\n",
    ")\n",
    "async def main():\n",
    "    tools= await edgar_client.get_tools()\n",
    "    llm=ChatGroq(model=\"meta-llama/llama-4-scout-17b-16e-instruct\",api_key=grok_api_key)\n",
    "    agent=create_react_agent(model=llm,tools=tools)\n",
    "    response =await agent.ainvoke({\"messages\": [HumanMessage(content=\"\"\"get filings content of microsoft\"\"\"),]},{\"recursion_limit\": 25})\n",
    "    return response\n"
   ]
  },
  {
   "cell_type": "code",
   "execution_count": null,
   "id": "4da0c600",
   "metadata": {},
   "outputs": [],
   "source": [
    "response = await main()"
   ]
  },
  {
   "cell_type": "code",
   "execution_count": 50,
   "id": "975f072c",
   "metadata": {},
   "outputs": [
    {
     "name": "stdout",
     "output_type": "stream",
     "text": [
      "Human: get filings of microsoft\n",
      "AI: \n",
      "TOOL: {\"filings\": [{\"form\": \"4\", \"filing_date\": \"2025-05-22\", \"accession_number\": \"0001062993-25-010134\", \"isXBRL\": false}, {\"form\": \"144\", \"filing_date\": \"2025-05-21\", \"accession_number\": \"0002007317-25-000429\", \"isXBRL\": false}, {\"form\": \"4\", \"filing_date\": \"2025-05-20\", \"accession_number\": \"0001062993-25-009901\", \"isXBRL\": false}, {\"form\": \"144\", \"filing_date\": \"2025-05-19\", \"accession_number\": \"0001959173-25-003326\", \"isXBRL\": false}, {\"form\": \"4\", \"filing_date\": \"2025-05-16\", \"accession_number\": \"0001062993-25-009723\", \"isXBRL\": false}, {\"form\": \"144\", \"filing_date\": \"2025-05-15\", \"accession_number\": \"0001959173-25-003240\", \"isXBRL\": false}, {\"form\": \"144\", \"filing_date\": \"2025-05-15\", \"accession_number\": \"0001959173-25-003239\", \"isXBRL\": false}, {\"form\": \"4\", \"filing_date\": \"2025-05-06\", \"accession_number\": \"0001062993-25-008701\", \"isXBRL\": false}, {\"form\": \"144\", \"filing_date\": \"2025-05-05\", \"accession_number\": \"0001950047-25-002724\", \"isXBRL\": false}, {\"form\": \"144\", \"filing_date\": \"2025-05-02\", \"accession_number\": \"0002007317-25-000293\", \"isXBRL\": false}, {\"form\": \"10-Q\", \"filing_date\": \"2025-04-30\", \"accession_number\": \"0000950170-25-061046\", \"isXBRL\": true}, {\"form\": \"8-K\", \"filing_date\": \"2025-04-30\", \"accession_number\": \"0000950170-25-061032\", \"isXBRL\": true}, {\"form\": \"4\", \"filing_date\": \"2025-04-16\", \"accession_number\": \"0001062993-25-007602\", \"isXBRL\": false}, {\"form\": \"11-K\", \"filing_date\": \"2025-03-26\", \"accession_number\": \"0000950170-25-045366\", \"isXBRL\": false}, {\"form\": \"3\", \"filing_date\": \"2025-03-25\", \"accession_number\": \"0001062993-25-006285\", \"isXBRL\": false}, {\"form\": \"4\", \"filing_date\": \"2025-03-14\", \"accession_number\": \"0001062993-25-005519\", \"isXBRL\": false}, {\"form\": \"4\", \"filing_date\": \"2025-03-14\", \"accession_number\": \"0001062993-25-005518\", \"isXBRL\": false}, {\"form\": \"4\", \"filing_date\": \"2025-03-14\", \"accession_number\": \"0001062993-25-005517\", \"isXBRL\": false}, {\"form\": \"4\", \"filing_date\": \"2025-03-14\", \"accession_number\": \"0001062993-25-005515\", \"isXBRL\": false}, {\"form\": \"4\", \"filing_date\": \"2025-03-14\", \"accession_number\": \"0001062993-25-005514\", \"isXBRL\": false}, {\"form\": \"4\", \"filing_date\": \"2025-03-14\", \"accession_number\": \"0001062993-25-005513\", \"isXBRL\": false}, {\"form\": \"4\", \"filing_date\": \"2025-03-14\", \"accession_number\": \"0001062993-25-005512\", \"isXBRL\": false}, {\"form\": \"4\", \"filing_date\": \"2025-03-14\", \"accession_number\": \"0001062993-25-005509\", \"isXBRL\": false}, {\"form\": \"4\", \"filing_date\": \"2025-03-03\", \"accession_number\": \"0001062993-25-004149\", \"isXBRL\": false}, {\"form\": \"4\", \"filing_date\": \"2025-03-03\", \"accession_number\": \"0001062993-25-004147\", \"isXBRL\": false}, {\"form\": \"4\", \"filing_date\": \"2025-03-03\", \"accession_number\": \"0001062993-25-004146\", \"isXBRL\": false}, {\"form\": \"4\", \"filing_date\": \"2025-03-03\", \"accession_number\": \"0001062993-25-004145\", \"isXBRL\": false}, {\"form\": \"4\", \"filing_date\": \"2025-03-03\", \"accession_number\": \"0001062993-25-004144\", \"isXBRL\": false}, {\"form\": \"4\", \"filing_date\": \"2025-03-03\", \"accession_number\": \"0001062993-25-004143\", \"isXBRL\": false}, {\"form\": \"4\", \"filing_date\": \"2025-02-03\", \"accession_number\": \"0001062993-25-001527\", \"isXBRL\": false}, {\"form\": \"4\", \"filing_date\": \"2025-02-03\", \"accession_number\": \"0001062993-25-001526\", \"isXBRL\": false}, {\"form\": \"4\", \"filing_date\": \"2025-02-03\", \"accession_number\": \"0001062993-25-001525\", \"isXBRL\": false}, {\"form\": \"4\", \"filing_date\": \"2025-02-03\", \"accession_number\": \"0001062993-25-001524\", \"isXBRL\": false}, {\"form\": \"4\", \"filing_date\": \"2025-02-03\", \"accession_number\": \"0001062993-25-001523\", \"isXBRL\": false}, {\"form\": \"4\", \"filing_date\": \"2025-02-03\", \"accession_number\": \"0001062993-25-001522\", \"isXBRL\": false}, {\"form\": \"4\", \"filing_date\": \"2025-02-03\", \"accession_number\": \"0001062993-25-001521\", \"isXBRL\": false}, {\"form\": \"4\", \"filing_date\": \"2025-02-03\", \"accession_number\": \"0001062993-25-001520\", \"isXBRL\": false}, {\"form\": \"4\", \"filing_date\": \"2025-02-03\", \"accession_number\": \"0001062993-25-001519\", \"isXBRL\": false}, {\"form\": \"4\", \"filing_date\": \"2025-02-03\", \"accession_number\": \"0001062993-25-001518\", \"isXBRL\": false}, {\"form\": \"4\", \"filing_date\": \"2025-02-03\", \"accession_number\": \"0001062993-25-001517\", \"isXBRL\": false}, {\"form\": \"10-Q\", \"filing_date\": \"2025-01-29\", \"accession_number\": \"0000950170-25-010491\", \"isXBRL\": true}, {\"form\": \"8-K\", \"filing_date\": \"2025-01-29\", \"accession_number\": \"0000950170-25-010484\", \"isXBRL\": true}, {\"form\": \"8-K\", \"filing_date\": \"2025-01-22\", \"accession_number\": \"0001193125-25-010492\", \"isXBRL\": true}, {\"form\": \"4\", \"filing_date\": \"2024-12-16\", \"accession_number\": \"0001062993-24-020678\", \"isXBRL\": false}, {\"form\": \"4\", \"filing_date\": \"2024-12-13\", \"accession_number\": \"0001062993-24-020624\", \"isXBRL\": false}, {\"form\": \"4\", \"filing_date\": \"2024-12-13\", \"accession_number\": \"0001062993-24-020623\", \"isXBRL\": false}, {\"form\": \"4\", \"filing_date\": \"2024-12-13\", \"accession_number\": \"0001062993-24-020622\", \"isXBRL\": false}, {\"form\": \"4\", \"filing_date\": \"2024-12-13\", \"accession_number\": \"0001062993-24-020621\", \"isXBRL\": false}, {\"form\": \"4\", \"filing_date\": \"2024-12-13\", \"accession_number\": \"0001062993-24-020620\", \"isXBRL\": false}, {\"form\": \"4\", \"filing_date\": \"2024-12-13\", \"accession_number\": \"0001062993-24-020619\", \"isXBRL\": false}, {\"form\": \"4\", \"filing_date\": \"2024-12-13\", \"accession_number\": \"0001062993-24-020618\", \"isXBRL\": false}, {\"form\": \"4\", \"filing_date\": \"2024-12-13\", \"accession_number\": \"0001062993-24-020617\", \"isXBRL\": false}, {\"form\": \"S-3ASR\", \"filing_date\": \"2024-12-12\", \"accession_number\": \"0001193125-24-277062\", \"isXBRL\": true}, {\"form\": \"8-K\", \"filing_date\": \"2024-12-11\", \"accession_number\": \"0001193125-24-275524\", \"isXBRL\": true}, {\"form\": \"4\", \"filing_date\": \"2024-12-10\", \"accession_number\": \"0001062993-24-020399\", \"isXBRL\": false}, {\"form\": \"4\", \"filing_date\": \"2024-12-10\", \"accession_number\": \"0001062993-24-020397\", \"isXBRL\": false}, {\"form\": \"4\", \"filing_date\": \"2024-12-10\", \"accession_number\": \"0001062993-24-020396\", \"isXBRL\": false}, {\"form\": \"4\", \"filing_date\": \"2024-12-10\", \"accession_number\": \"0001062993-24-020395\", \"isXBRL\": false}, {\"form\": \"4\", \"filing_date\": \"2024-12-10\", \"accession_number\": \"0001062993-24-020394\", \"isXBRL\": false}, {\"form\": \"4\", \"filing_date\": \"2024-12-10\", \"accession_number\": \"0001062993-24-020393\", \"isXBRL\": false}, {\"form\": \"4\", \"filing_date\": \"2024-12-10\", \"accession_number\": \"0001062993-24-020392\", \"isXBRL\": false}, {\"form\": \"4\", \"filing_date\": \"2024-12-10\", \"accession_number\": \"0001062993-24-020391\", \"isXBRL\": false}, {\"form\": \"4\", \"filing_date\": \"2024-12-10\", \"accession_number\": \"0001062993-24-020390\", \"isXBRL\": false}, {\"form\": \"4\", \"filing_date\": \"2024-12-10\", \"accession_number\": \"0001062993-24-020389\", \"isXBRL\": false}, {\"form\": \"4\", \"filing_date\": \"2024-12-10\", \"accession_number\": \"0001062993-24-020388\", \"isXBRL\": false}, {\"form\": \"4\", \"filing_date\": \"2024-12-10\", \"accession_number\": \"0001062993-24-020387\", \"isXBRL\": false}, {\"form\": \"4\", \"filing_date\": \"2024-12-05\", \"accession_number\": \"0001062993-24-020138\", \"isXBRL\": false}, {\"form\": \"8-K\", \"filing_date\": \"2024-12-03\", \"accession_number\": \"0000950170-24-132722\", \"isXBRL\": true}, {\"form\": \"4/A\", \"filing_date\": \"2024-12-02\", \"accession_number\": \"0001062993-24-019893\", \"isXBRL\": false}, {\"form\": \"4\", \"filing_date\": \"2024-12-02\", \"accession_number\": \"0001062993-24-019891\", \"isXBRL\": false}, {\"form\": \"4\", \"filing_date\": \"2024-12-02\", \"accession_number\": \"0001062993-24-019890\", \"isXBRL\": false}, {\"form\": \"4\", \"filing_date\": \"2024-11-25\", \"accession_number\": \"0001062993-24-019650\", \"isXBRL\": false}, {\"form\": \"4\", \"filing_date\": \"2024-11-25\", \"accession_number\": \"0001062993-24-019649\", \"isXBRL\": false}, {\"form\": \"144\", \"filing_date\": \"2024-11-22\", \"accession_number\": \"0001959173-24-008116\", \"isXBRL\": false}, {\"form\": \"144\", \"filing_date\": \"2024-11-22\", \"accession_number\": \"0001959173-24-008089\", \"isXBRL\": false}, {\"form\": \"4\", \"filing_date\": \"2024-11-14\", \"accession_number\": \"0001062993-24-019177\", \"isXBRL\": false}, {\"form\": \"4\", \"filing_date\": \"2024-11-12\", \"accession_number\": \"0001062993-24-018937\", \"isXBRL\": false}, {\"form\": \"144\", \"filing_date\": \"2024-11-12\", \"accession_number\": \"0001959173-24-007772\", \"isXBRL\": false}, {\"form\": \"PX14A6G\", \"filing_date\": \"2024-11-08\", \"accession_number\": \"0001096906-24-002081\", \"isXBRL\": false}, {\"form\": \"PX14A6G\", \"filing_date\": \"2024-11-05\", \"accession_number\": \"0001096906-24-002070\", \"isXBRL\": false}, {\"form\": \"10-Q\", \"filing_date\": \"2024-10-30\", \"accession_number\": \"0000950170-24-118967\", \"isXBRL\": true}, {\"form\": \"8-K\", \"filing_date\": \"2024-10-30\", \"accession_number\": \"0000950170-24-118955\", \"isXBRL\": true}, {\"form\": \"PX14A6G\", \"filing_date\": \"2024-10-30\", \"accession_number\": \"0001214659-24-018068\", \"isXBRL\": false}, {\"form\": \"PX14A6G\", \"filing_date\": \"2024-10-29\", \"accession_number\": \"0001214659-24-018029\", \"isXBRL\": false}, {\"form\": \"ARS\", \"filing_date\": \"2024-10-24\", \"accession_number\": \"0001193125-24-242888\", \"isXBRL\": false}, {\"form\": \"DEFA14A\", \"filing_date\": \"2024-10-24\", \"accession_number\": \"0001193125-24-242884\", \"isXBRL\": false}, {\"form\": \"DEF 14A\", \"filing_date\": \"2024-10-24\", \"accession_number\": \"0001193125-24-242883\", \"isXBRL\": true}, {\"form\": \"UPLOAD\", \"filing_date\": \"2024-10-10\", \"accession_number\": \"0000000000-24-011502\", \"isXBRL\": false}, {\"form\": \"4\", \"filing_date\": \"2024-09-18\", \"accession_number\": \"0001062993-24-016766\", \"isXBRL\": false}, {\"form\": \"4\", \"filing_date\": \"2024-09-18\", \"accession_number\": \"0001062993-24-016765\", \"isXBRL\": false}, {\"form\": \"4\", \"filing_date\": \"2024-09-18\", \"accession_number\": \"0001062993-24-016764\", \"isXBRL\": false}, {\"form\": \"4\", \"filing_date\": \"2024-09-18\", \"accession_number\": \"0001062993-24-016763\", \"isXBRL\": false}, {\"form\": \"4\", \"filing_date\": \"2024-09-18\", \"accession_number\": \"0001062993-24-016762\", \"isXBRL\": false}, {\"form\": \"4\", \"filing_date\": \"2024-09-18\", \"accession_number\": \"0001062993-24-016761\", \"isXBRL\": false}, {\"form\": \"4\", \"filing_date\": \"2024-09-13\", \"accession_number\": \"0001062993-24-016594\", \"isXBRL\": false}, {\"form\": \"4\", \"filing_date\": \"2024-09-13\", \"accession_number\": \"0001062993-24-016593\", \"isXBRL\": false}, {\"form\": \"4\", \"filing_date\": \"2024-09-13\", \"accession_number\": \"0001062993-24-016592\", \"isXBRL\": false}, {\"form\": \"4\", \"filing_date\": \"2024-09-13\", \"accession_number\": \"0001062993-24-016591\", \"isXBRL\": false}, {\"form\": \"4\", \"filing_date\": \"2024-09-13\", \"accession_number\": \"0001062993-24-016590\", \"isXBRL\": false}, {\"form\": \"4\", \"filing_date\": \"2024-09-13\", \"accession_number\": \"0001062993-24-016589\", \"isXBRL\": false}], \"pagination\": {\"page\": 1, \"page_size\": 100, \"total_items\": 4261, \"total_pages\": 43}}\n",
      "AI: \n",
      "TOOL: Error: ToolException(\"Error executing tool get_company_filings: Failed to get company filings: 'NoneType' object has no attribute 'get_filings'\")\n",
      " Please fix your mistakes.\n",
      "AI: \n",
      "TOOL: {\"filings\": [{\"form\": \"4\", \"filing_date\": \"2025-05-22\", \"accession_number\": \"0001062993-25-010134\", \"isXBRL\": false}, {\"form\": \"144\", \"filing_date\": \"2025-05-21\", \"accession_number\": \"0002007317-25-000429\", \"isXBRL\": false}, {\"form\": \"4\", \"filing_date\": \"2025-05-20\", \"accession_number\": \"0001062993-25-009901\", \"isXBRL\": false}, {\"form\": \"144\", \"filing_date\": \"2025-05-19\", \"accession_number\": \"0001959173-25-003326\", \"isXBRL\": false}, {\"form\": \"4\", \"filing_date\": \"2025-05-16\", \"accession_number\": \"0001062993-25-009723\", \"isXBRL\": false}, {\"form\": \"144\", \"filing_date\": \"2025-05-15\", \"accession_number\": \"0001959173-25-003240\", \"isXBRL\": false}, {\"form\": \"144\", \"filing_date\": \"2025-05-15\", \"accession_number\": \"0001959173-25-003239\", \"isXBRL\": false}, {\"form\": \"4\", \"filing_date\": \"2025-05-06\", \"accession_number\": \"0001062993-25-008701\", \"isXBRL\": false}, {\"form\": \"144\", \"filing_date\": \"2025-05-05\", \"accession_number\": \"0001950047-25-002724\", \"isXBRL\": false}, {\"form\": \"144\", \"filing_date\": \"2025-05-02\", \"accession_number\": \"0002007317-25-000293\", \"isXBRL\": false}, {\"form\": \"10-Q\", \"filing_date\": \"2025-04-30\", \"accession_number\": \"0000950170-25-061046\", \"isXBRL\": true}, {\"form\": \"8-K\", \"filing_date\": \"2025-04-30\", \"accession_number\": \"0000950170-25-061032\", \"isXBRL\": true}, {\"form\": \"4\", \"filing_date\": \"2025-04-16\", \"accession_number\": \"0001062993-25-007602\", \"isXBRL\": false}, {\"form\": \"11-K\", \"filing_date\": \"2025-03-26\", \"accession_number\": \"0000950170-25-045366\", \"isXBRL\": false}, {\"form\": \"3\", \"filing_date\": \"2025-03-25\", \"accession_number\": \"0001062993-25-006285\", \"isXBRL\": false}, {\"form\": \"4\", \"filing_date\": \"2025-03-14\", \"accession_number\": \"0001062993-25-005519\", \"isXBRL\": false}, {\"form\": \"4\", \"filing_date\": \"2025-03-14\", \"accession_number\": \"0001062993-25-005518\", \"isXBRL\": false}, {\"form\": \"4\", \"filing_date\": \"2025-03-14\", \"accession_number\": \"0001062993-25-005517\", \"isXBRL\": false}, {\"form\": \"4\", \"filing_date\": \"2025-03-14\", \"accession_number\": \"0001062993-25-005515\", \"isXBRL\": false}, {\"form\": \"4\", \"filing_date\": \"2025-03-14\", \"accession_number\": \"0001062993-25-005514\", \"isXBRL\": false}, {\"form\": \"4\", \"filing_date\": \"2025-03-14\", \"accession_number\": \"0001062993-25-005513\", \"isXBRL\": false}, {\"form\": \"4\", \"filing_date\": \"2025-03-14\", \"accession_number\": \"0001062993-25-005512\", \"isXBRL\": false}, {\"form\": \"4\", \"filing_date\": \"2025-03-14\", \"accession_number\": \"0001062993-25-005509\", \"isXBRL\": false}, {\"form\": \"4\", \"filing_date\": \"2025-03-03\", \"accession_number\": \"0001062993-25-004149\", \"isXBRL\": false}, {\"form\": \"4\", \"filing_date\": \"2025-03-03\", \"accession_number\": \"0001062993-25-004147\", \"isXBRL\": false}, {\"form\": \"4\", \"filing_date\": \"2025-03-03\", \"accession_number\": \"0001062993-25-004146\", \"isXBRL\": false}, {\"form\": \"4\", \"filing_date\": \"2025-03-03\", \"accession_number\": \"0001062993-25-004145\", \"isXBRL\": false}, {\"form\": \"4\", \"filing_date\": \"2025-03-03\", \"accession_number\": \"0001062993-25-004144\", \"isXBRL\": false}, {\"form\": \"4\", \"filing_date\": \"2025-03-03\", \"accession_number\": \"0001062993-25-004143\", \"isXBRL\": false}, {\"form\": \"4\", \"filing_date\": \"2025-02-03\", \"accession_number\": \"0001062993-25-001527\", \"isXBRL\": false}, {\"form\": \"4\", \"filing_date\": \"2025-02-03\", \"accession_number\": \"0001062993-25-001526\", \"isXBRL\": false}, {\"form\": \"4\", \"filing_date\": \"2025-02-03\", \"accession_number\": \"0001062993-25-001525\", \"isXBRL\": false}, {\"form\": \"4\", \"filing_date\": \"2025-02-03\", \"accession_number\": \"0001062993-25-001524\", \"isXBRL\": false}, {\"form\": \"4\", \"filing_date\": \"2025-02-03\", \"accession_number\": \"0001062993-25-001523\", \"isXBRL\": false}, {\"form\": \"4\", \"filing_date\": \"2025-02-03\", \"accession_number\": \"0001062993-25-001522\", \"isXBRL\": false}, {\"form\": \"4\", \"filing_date\": \"2025-02-03\", \"accession_number\": \"0001062993-25-001521\", \"isXBRL\": false}, {\"form\": \"4\", \"filing_date\": \"2025-02-03\", \"accession_number\": \"0001062993-25-001520\", \"isXBRL\": false}, {\"form\": \"4\", \"filing_date\": \"2025-02-03\", \"accession_number\": \"0001062993-25-001519\", \"isXBRL\": false}, {\"form\": \"4\", \"filing_date\": \"2025-02-03\", \"accession_number\": \"0001062993-25-001518\", \"isXBRL\": false}, {\"form\": \"4\", \"filing_date\": \"2025-02-03\", \"accession_number\": \"0001062993-25-001517\", \"isXBRL\": false}, {\"form\": \"10-Q\", \"filing_date\": \"2025-01-29\", \"accession_number\": \"0000950170-25-010491\", \"isXBRL\": true}, {\"form\": \"8-K\", \"filing_date\": \"2025-01-29\", \"accession_number\": \"0000950170-25-010484\", \"isXBRL\": true}, {\"form\": \"8-K\", \"filing_date\": \"2025-01-22\", \"accession_number\": \"0001193125-25-010492\", \"isXBRL\": true}, {\"form\": \"4\", \"filing_date\": \"2024-12-16\", \"accession_number\": \"0001062993-24-020678\", \"isXBRL\": false}, {\"form\": \"4\", \"filing_date\": \"2024-12-13\", \"accession_number\": \"0001062993-24-020624\", \"isXBRL\": false}, {\"form\": \"4\", \"filing_date\": \"2024-12-13\", \"accession_number\": \"0001062993-24-020623\", \"isXBRL\": false}, {\"form\": \"4\", \"filing_date\": \"2024-12-13\", \"accession_number\": \"0001062993-24-020622\", \"isXBRL\": false}, {\"form\": \"4\", \"filing_date\": \"2024-12-13\", \"accession_number\": \"0001062993-24-020621\", \"isXBRL\": false}, {\"form\": \"4\", \"filing_date\": \"2024-12-13\", \"accession_number\": \"0001062993-24-020620\", \"isXBRL\": false}, {\"form\": \"4\", \"filing_date\": \"2024-12-13\", \"accession_number\": \"0001062993-24-020619\", \"isXBRL\": false}, {\"form\": \"4\", \"filing_date\": \"2024-12-13\", \"accession_number\": \"0001062993-24-020618\", \"isXBRL\": false}, {\"form\": \"4\", \"filing_date\": \"2024-12-13\", \"accession_number\": \"0001062993-24-020617\", \"isXBRL\": false}, {\"form\": \"S-3ASR\", \"filing_date\": \"2024-12-12\", \"accession_number\": \"0001193125-24-277062\", \"isXBRL\": true}, {\"form\": \"8-K\", \"filing_date\": \"2024-12-11\", \"accession_number\": \"0001193125-24-275524\", \"isXBRL\": true}, {\"form\": \"4\", \"filing_date\": \"2024-12-10\", \"accession_number\": \"0001062993-24-020399\", \"isXBRL\": false}, {\"form\": \"4\", \"filing_date\": \"2024-12-10\", \"accession_number\": \"0001062993-24-020397\", \"isXBRL\": false}, {\"form\": \"4\", \"filing_date\": \"2024-12-10\", \"accession_number\": \"0001062993-24-020396\", \"isXBRL\": false}, {\"form\": \"4\", \"filing_date\": \"2024-12-10\", \"accession_number\": \"0001062993-24-020395\", \"isXBRL\": false}, {\"form\": \"4\", \"filing_date\": \"2024-12-10\", \"accession_number\": \"0001062993-24-020394\", \"isXBRL\": false}, {\"form\": \"4\", \"filing_date\": \"2024-12-10\", \"accession_number\": \"0001062993-24-020393\", \"isXBRL\": false}, {\"form\": \"4\", \"filing_date\": \"2024-12-10\", \"accession_number\": \"0001062993-24-020392\", \"isXBRL\": false}, {\"form\": \"4\", \"filing_date\": \"2024-12-10\", \"accession_number\": \"0001062993-24-020391\", \"isXBRL\": false}, {\"form\": \"4\", \"filing_date\": \"2024-12-10\", \"accession_number\": \"0001062993-24-020390\", \"isXBRL\": false}, {\"form\": \"4\", \"filing_date\": \"2024-12-10\", \"accession_number\": \"0001062993-24-020389\", \"isXBRL\": false}, {\"form\": \"4\", \"filing_date\": \"2024-12-10\", \"accession_number\": \"0001062993-24-020388\", \"isXBRL\": false}, {\"form\": \"4\", \"filing_date\": \"2024-12-10\", \"accession_number\": \"0001062993-24-020387\", \"isXBRL\": false}, {\"form\": \"4\", \"filing_date\": \"2024-12-05\", \"accession_number\": \"0001062993-24-020138\", \"isXBRL\": false}, {\"form\": \"8-K\", \"filing_date\": \"2024-12-03\", \"accession_number\": \"0000950170-24-132722\", \"isXBRL\": true}, {\"form\": \"4/A\", \"filing_date\": \"2024-12-02\", \"accession_number\": \"0001062993-24-019893\", \"isXBRL\": false}, {\"form\": \"4\", \"filing_date\": \"2024-12-02\", \"accession_number\": \"0001062993-24-019891\", \"isXBRL\": false}, {\"form\": \"4\", \"filing_date\": \"2024-12-02\", \"accession_number\": \"0001062993-24-019890\", \"isXBRL\": false}, {\"form\": \"4\", \"filing_date\": \"2024-11-25\", \"accession_number\": \"0001062993-24-019650\", \"isXBRL\": false}, {\"form\": \"4\", \"filing_date\": \"2024-11-25\", \"accession_number\": \"0001062993-24-019649\", \"isXBRL\": false}, {\"form\": \"144\", \"filing_date\": \"2024-11-22\", \"accession_number\": \"0001959173-24-008116\", \"isXBRL\": false}, {\"form\": \"144\", \"filing_date\": \"2024-11-22\", \"accession_number\": \"0001959173-24-008089\", \"isXBRL\": false}, {\"form\": \"4\", \"filing_date\": \"2024-11-14\", \"accession_number\": \"0001062993-24-019177\", \"isXBRL\": false}, {\"form\": \"4\", \"filing_date\": \"2024-11-12\", \"accession_number\": \"0001062993-24-018937\", \"isXBRL\": false}, {\"form\": \"144\", \"filing_date\": \"2024-11-12\", \"accession_number\": \"0001959173-24-007772\", \"isXBRL\": false}, {\"form\": \"PX14A6G\", \"filing_date\": \"2024-11-08\", \"accession_number\": \"0001096906-24-002081\", \"isXBRL\": false}, {\"form\": \"PX14A6G\", \"filing_date\": \"2024-11-05\", \"accession_number\": \"0001096906-24-002070\", \"isXBRL\": false}, {\"form\": \"10-Q\", \"filing_date\": \"2024-10-30\", \"accession_number\": \"0000950170-24-118967\", \"isXBRL\": true}, {\"form\": \"8-K\", \"filing_date\": \"2024-10-30\", \"accession_number\": \"0000950170-24-118955\", \"isXBRL\": true}, {\"form\": \"PX14A6G\", \"filing_date\": \"2024-10-30\", \"accession_number\": \"0001214659-24-018068\", \"isXBRL\": false}, {\"form\": \"PX14A6G\", \"filing_date\": \"2024-10-29\", \"accession_number\": \"0001214659-24-018029\", \"isXBRL\": false}, {\"form\": \"ARS\", \"filing_date\": \"2024-10-24\", \"accession_number\": \"0001193125-24-242888\", \"isXBRL\": false}, {\"form\": \"DEFA14A\", \"filing_date\": \"2024-10-24\", \"accession_number\": \"0001193125-24-242884\", \"isXBRL\": false}, {\"form\": \"DEF 14A\", \"filing_date\": \"2024-10-24\", \"accession_number\": \"0001193125-24-242883\", \"isXBRL\": true}, {\"form\": \"UPLOAD\", \"filing_date\": \"2024-10-10\", \"accession_number\": \"0000000000-24-011502\", \"isXBRL\": false}, {\"form\": \"4\", \"filing_date\": \"2024-09-18\", \"accession_number\": \"0001062993-24-016766\", \"isXBRL\": false}, {\"form\": \"4\", \"filing_date\": \"2024-09-18\", \"accession_number\": \"0001062993-24-016765\", \"isXBRL\": false}, {\"form\": \"4\", \"filing_date\": \"2024-09-18\", \"accession_number\": \"0001062993-24-016764\", \"isXBRL\": false}, {\"form\": \"4\", \"filing_date\": \"2024-09-18\", \"accession_number\": \"0001062993-24-016763\", \"isXBRL\": false}, {\"form\": \"4\", \"filing_date\": \"2024-09-18\", \"accession_number\": \"0001062993-24-016762\", \"isXBRL\": false}, {\"form\": \"4\", \"filing_date\": \"2024-09-18\", \"accession_number\": \"0001062993-24-016761\", \"isXBRL\": false}, {\"form\": \"4\", \"filing_date\": \"2024-09-13\", \"accession_number\": \"0001062993-24-016594\", \"isXBRL\": false}, {\"form\": \"4\", \"filing_date\": \"2024-09-13\", \"accession_number\": \"0001062993-24-016593\", \"isXBRL\": false}, {\"form\": \"4\", \"filing_date\": \"2024-09-13\", \"accession_number\": \"0001062993-24-016592\", \"isXBRL\": false}, {\"form\": \"4\", \"filing_date\": \"2024-09-13\", \"accession_number\": \"0001062993-24-016591\", \"isXBRL\": false}, {\"form\": \"4\", \"filing_date\": \"2024-09-13\", \"accession_number\": \"0001062993-24-016590\", \"isXBRL\": false}, {\"form\": \"4\", \"filing_date\": \"2024-09-13\", \"accession_number\": \"0001062993-24-016589\", \"isXBRL\": false}], \"pagination\": {\"page\": 1, \"page_size\": 100, \"total_items\": 4261, \"total_pages\": 43}}\n",
      "AI: The provided function definitions do not align with the task requirements. Please revise and update them.\n"
     ]
    }
   ],
   "source": [
    "resp=response['messages']\n",
    "for i in range(len(resp)):\n",
    "    if isinstance(resp[i], AIMessage):\n",
    "        print(f\"AI: {resp[i].content}\")\n",
    "    elif isinstance(resp[i], HumanMessage):\n",
    "        print(f\"Human: {resp[i].content}\")\n",
    "    else:\n",
    "        print(f\"TOOL: {resp[i].content}\")"
   ]
  },
  {
   "cell_type": "code",
   "execution_count": null,
   "id": "53ecbae2",
   "metadata": {},
   "outputs": [
    {
     "data": {
      "text/plain": [
       "langchain_core.messages.tool.ToolMessage"
      ]
     },
     "execution_count": 14,
     "metadata": {},
     "output_type": "execute_result"
    }
   ],
   "source": [
    "type(resp)"
   ]
  }
 ],
 "metadata": {
  "kernelspec": {
   "display_name": ".venv",
   "language": "python",
   "name": "python3"
  },
  "language_info": {
   "codemirror_mode": {
    "name": "ipython",
    "version": 3
   },
   "file_extension": ".py",
   "mimetype": "text/x-python",
   "name": "python",
   "nbconvert_exporter": "python",
   "pygments_lexer": "ipython3",
   "version": "3.13.2"
  }
 },
 "nbformat": 4,
 "nbformat_minor": 5
}
